{
 "cells": [
  {
   "cell_type": "code",
   "execution_count": 50,
   "metadata": {
    "collapsed": true,
    "pycharm": {
     "name": "#%%\n"
    }
   },
   "outputs": [],
   "source": [
    "from dataset.datasets import get_dataset\n",
    "from torch_geometric.datasets import WebKB, Planetoid, KarateClub, Airports\n",
    "import torch_geometric.transforms as T\n",
    "import os.path as osp\n",
    "from torch_geometric.utils import is_undirected, get_laplacian, to_undirected, to_dense_adj\n",
    "import torch"
   ]
  },
  {
   "cell_type": "code",
   "execution_count": 51,
   "metadata": {
    "pycharm": {
     "name": "#%%\n"
    }
   },
   "outputs": [],
   "source": [
    "def get_lap(dataset):\n",
    "    data = dataset[0]\n",
    "    edge_index = to_undirected((data.edge_index))\n",
    "    assert is_undirected(edge_index)\n",
    "\n",
    "    lap = get_laplacian(edge_index, normalization=\"sym\")\n",
    "    lap = to_dense_adj(lap[0], edge_attr=lap[1])\n",
    "    return data, lap"
   ]
  },
  {
   "cell_type": "code",
   "execution_count": 52,
   "metadata": {
    "pycharm": {
     "name": "#%%\n"
    }
   },
   "outputs": [],
   "source": [
    "def eigen_decompose(lap):\n",
    "    e, v = torch.linalg.eigh(lap)\n",
    "    e = e.squeeze()\n",
    "    v = v.squeeze()\n",
    "    return e, v"
   ]
  },
  {
   "cell_type": "code",
   "execution_count": 136,
   "metadata": {
    "pycharm": {
     "name": "#%%\n"
    }
   },
   "outputs": [],
   "source": [
    "def find_eigen_representaion(v, y):\n",
    "    best_dist = float('inf')\n",
    "    best_i = 0\n",
    "    best_j = 0\n",
    "    num_classes = y.max() + 1\n",
    "    for i in range(1, v.shape[0]):\n",
    "        for j in range(1, v.shape[0]):\n",
    "            if i == j:\n",
    "                continue\n",
    "            embed = v[:, [i, j]]\n",
    "            dist_1 = []\n",
    "            dist_2 = [0.]\n",
    "            for c in range(num_classes):\n",
    "                if (y == c).count_nonzero() > 1:\n",
    "                    dist_1.append(torch.pdist(embed[y == c]).mean())\n",
    "                    for d in range(num_classes):\n",
    "                        if c != d:\n",
    "                            dist_2.append(torch.cdist(embed[y == c], embed[y == d]).mean()/num_classes)\n",
    "            dist = torch.tensor(dist_1).mean() - torch.tensor(dist_2).mean()\n",
    "\n",
    "            if best_dist > dist:\n",
    "                best_dist = dist\n",
    "                print(i, j)\n",
    "                best_i = i\n",
    "                best_j = j\n",
    "    return best_i, best_j"
   ]
  },
  {
   "cell_type": "code",
   "execution_count": 113,
   "metadata": {
    "pycharm": {
     "name": "#%%\n"
    }
   },
   "outputs": [],
   "source": [
    "def plot_data_points(i, j, y):\n",
    "    import matplotlib.pyplot as plt\n",
    "    fig = plt.figure()\n",
    "    fig = plt.figure(figsize=(10, 5))\n",
    "    # ax = fig.add_subplot(projection='3d')\n",
    "    ax = v[:,i]\n",
    "    ay = v[:,j]\n",
    "    colours = ['#1f77b4', '#ff7f0e', '#2ca02c', '#d62728', '#9467bd', '#8c564b', '#e377c2', '#7f7f7f', '#bcbd22', '#17becf']\n",
    "    plt.scatter(ax, ay, s=50, c=[colours[c] for c in y])\n",
    "    plt.show()"
   ]
  },
  {
   "cell_type": "code",
   "execution_count": 108,
   "metadata": {
    "pycharm": {
     "name": "#%%\n"
    }
   },
   "outputs": [],
   "source": [
    "name = 'Wisconsin'\n",
    "path = osp.join('..', 'data', name)\n",
    "dataset = WebKB(path, name)\n",
    "data, lap = get_lap(dataset)"
   ]
  },
  {
   "cell_type": "code",
   "execution_count": 109,
   "outputs": [],
   "source": [
    "e, v = eigen_decompose(lap)"
   ],
   "metadata": {
    "collapsed": false,
    "pycharm": {
     "name": "#%%\n"
    }
   }
  },
  {
   "cell_type": "code",
   "execution_count": 110,
   "outputs": [],
   "source": [
    "i, j = find_eigen_representaion(v, data.y)"
   ],
   "metadata": {
    "collapsed": false,
    "pycharm": {
     "name": "#%%\n"
    }
   }
  },
  {
   "cell_type": "code",
   "execution_count": 119,
   "outputs": [
    {
     "name": "stdout",
     "output_type": "stream",
     "text": [
      "44 207\n"
     ]
    }
   ],
   "source": [
    "print(i, j)"
   ],
   "metadata": {
    "collapsed": false,
    "pycharm": {
     "name": "#%%\n"
    }
   }
  },
  {
   "cell_type": "code",
   "execution_count": 120,
   "metadata": {
    "pycharm": {
     "name": "#%%\n"
    }
   },
   "outputs": [
    {
     "data": {
      "text/plain": "<Figure size 432x288 with 0 Axes>"
     },
     "metadata": {},
     "output_type": "display_data"
    },
    {
     "data": {
      "text/plain": "<Figure size 720x360 with 1 Axes>",
      "image/png": "[encoded data removed]"
     },
     "metadata": {
      "needs_background": "light"
     },
     "output_type": "display_data"
    }
   ],
   "source": [
    "plot_data_points(i, j, data.y)"
   ]
  },
  {
   "cell_type": "code",
   "execution_count": 121,
   "outputs": [
    {
     "data": {
      "text/plain": "<Figure size 432x288 with 0 Axes>"
     },
     "metadata": {},
     "output_type": "display_data"
    },
    {
     "data": {
      "text/plain": "<Figure size 720x360 with 1 Axes>",
      "image/png": "[encoded data removed]"
     },
     "metadata": {
      "needs_background": "light"
     },
     "output_type": "display_data"
    }
   ],
   "source": [
    "plot_data_points(1, 2, data.y)"
   ],
   "metadata": {
    "collapsed": false,
    "pycharm": {
     "name": "#%%\n"
    }
   }
  },
  {
   "cell_type": "code",
   "execution_count": 144,
   "outputs": [
    {
     "name": "stderr",
     "output_type": "stream",
     "text": [
      "Downloading https://github.com/leoribeiro/struc2vec/raw/master/graph/europe-airports.edgelist\n",
      "Downloading https://github.com/leoribeiro/struc2vec/raw/master/graph/labels-europe-airports.txt\n",
      "Processing...\n",
      "Done!\n"
     ]
    }
   ],
   "source": [
    "name = 'Europe'\n",
    "path = osp.join('..', 'data', name)\n",
    "dataset = Airports(path, name)\n",
    "data, lap = get_lap(dataset)"
   ],
   "metadata": {
    "collapsed": false,
    "pycharm": {
     "name": "#%%\n"
    }
   }
  },
  {
   "cell_type": "code",
   "execution_count": 145,
   "outputs": [],
   "source": [
    "e, v = eigen_decompose(lap)"
   ],
   "metadata": {
    "collapsed": false,
    "pycharm": {
     "name": "#%%\n"
    }
   }
  },
  {
   "cell_type": "code",
   "execution_count": 146,
   "outputs": [
    {
     "name": "stdout",
     "output_type": "stream",
     "text": [
      "1 2\n",
      "1 3\n",
      "1 5\n",
      "1 366\n",
      "3 366\n",
      "3 382\n",
      "208 366\n",
      "208 382\n",
      "366 382\n"
     ]
    }
   ],
   "source": [
    "i, j = find_eigen_representaion(v, data.y)"
   ],
   "metadata": {
    "collapsed": false,
    "pycharm": {
     "name": "#%%\n"
    }
   }
  },
  {
   "cell_type": "code",
   "execution_count": 149,
   "outputs": [
    {
     "data": {
      "text/plain": "<Figure size 432x288 with 0 Axes>"
     },
     "metadata": {},
     "output_type": "display_data"
    },
    {
     "data": {
      "text/plain": "<Figure size 720x360 with 1 Axes>",
      "image/png": "[encoded data removed]"
     },
     "metadata": {
      "needs_background": "light"
     },
     "output_type": "display_data"
    }
   ],
   "source": [
    "plot_data_points(i, j, data.y)"
   ],
   "metadata": {
    "collapsed": false,
    "pycharm": {
     "name": "#%%\n"
    }
   }
  },
  {
   "cell_type": "code",
   "execution_count": 150,
   "metadata": {
    "pycharm": {
     "name": "#%%\n"
    }
   },
   "outputs": [
    {
     "data": {
      "text/plain": "<Figure size 432x288 with 0 Axes>"
     },
     "metadata": {},
     "output_type": "display_data"
    },
    {
     "data": {
      "text/plain": "<Figure size 720x360 with 1 Axes>",
      "image/png": "[encoded data removed]"
     },
     "metadata": {
      "needs_background": "light"
     },
     "output_type": "display_data"
    }
   ],
   "source": [
    "plot_data_points(1, 2, data.y)"
   ]
  },
  {
   "cell_type": "code",
   "execution_count": 79,
   "outputs": [
    {
     "data": {
      "text/plain": "65"
     },
     "execution_count": 79,
     "metadata": {},
     "output_type": "execute_result"
    }
   ],
   "source": [
    "i"
   ],
   "metadata": {
    "collapsed": false,
    "pycharm": {
     "name": "#%%\n"
    }
   }
  },
  {
   "cell_type": "code",
   "execution_count": 80,
   "outputs": [
    {
     "data": {
      "text/plain": "67"
     },
     "execution_count": 80,
     "metadata": {},
     "output_type": "execute_result"
    }
   ],
   "source": [
    "j"
   ],
   "metadata": {
    "collapsed": false,
    "pycharm": {
     "name": "#%%\n"
    }
   }
  },
  {
   "cell_type": "code",
   "execution_count": 43,
   "outputs": [
    {
     "data": {
      "text/plain": "torch.Size([34])"
     },
     "execution_count": 43,
     "metadata": {},
     "output_type": "execute_result"
    }
   ],
   "source": [
    "data.y.shape\n"
   ],
   "metadata": {
    "collapsed": false,
    "pycharm": {
     "name": "#%%\n"
    }
   }
  },
  {
   "cell_type": "code",
   "execution_count": null,
   "outputs": [],
   "source": [],
   "metadata": {
    "collapsed": false,
    "pycharm": {
     "name": "#%%\n"
    }
   }
  }
 ],
 "metadata": {
  "kernelspec": {
   "display_name": "Python 3 (ipykernel)",
   "language": "python",
   "name": "python3"
  },
  "language_info": {
   "codemirror_mode": {
    "name": "ipython",
    "version": 3
   },
   "file_extension": ".py",
   "mimetype": "text/x-python",
   "name": "python",
   "nbconvert_exporter": "python",
   "pygments_lexer": "ipython3",
   "version": "3.9.7"
  }
 },
 "nbformat": 4,
 "nbformat_minor": 1
}